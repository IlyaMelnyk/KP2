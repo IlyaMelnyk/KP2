{
 "cells": [
  {
   "cell_type": "code",
   "execution_count": 22,
   "id": "9ef0fcb3",
   "metadata": {},
   "outputs": [],
   "source": [
    "#!pip install numpy\n",
    "#!pip install matplotlib\n",
    "#!pip install pandas\n",
    "#!pip list"
   ]
  },
  {
   "cell_type": "code",
   "execution_count": 23,
   "id": "3bd9974a",
   "metadata": {},
   "outputs": [],
   "source": [
    "#!pip install openpyxl"
   ]
  },
  {
   "cell_type": "code",
   "execution_count": 24,
   "id": "7c496417",
   "metadata": {},
   "outputs": [],
   "source": [
    "import numpy as np\n",
    "import matplotlib.pyplot as plt\n",
    "import pandas as pd"
   ]
  },
  {
   "cell_type": "code",
   "execution_count": 25,
   "id": "89282528",
   "metadata": {},
   "outputs": [],
   "source": [
    "df = pd.read_excel(\"вар10.xlsx\", engine='openpyxl')"
   ]
  },
  {
   "cell_type": "code",
   "execution_count": 26,
   "id": "f4aeb69a",
   "metadata": {},
   "outputs": [
    {
     "data": {
      "text/html": [
       "<div>\n",
       "<style scoped>\n",
       "    .dataframe tbody tr th:only-of-type {\n",
       "        vertical-align: middle;\n",
       "    }\n",
       "\n",
       "    .dataframe tbody tr th {\n",
       "        vertical-align: top;\n",
       "    }\n",
       "\n",
       "    .dataframe thead th {\n",
       "        text-align: right;\n",
       "    }\n",
       "</style>\n",
       "<table border=\"1\" class=\"dataframe\">\n",
       "  <thead>\n",
       "    <tr style=\"text-align: right;\">\n",
       "      <th></th>\n",
       "      <th>Успех</th>\n",
       "      <th>Торговельна площа, кв. м.</th>\n",
       "      <th>Этаж</th>\n",
       "      <th>Количество касс</th>\n",
       "      <th>Тип</th>\n",
       "      <th>Рейтинг в гуглі</th>\n",
       "      <th>Количество чеков</th>\n",
       "      <th>Средний чек</th>\n",
       "      <th>Населення</th>\n",
       "      <th>Середній дохід населення</th>\n",
       "      <th>Зупинка ГТ додому</th>\n",
       "      <th>Пішохідний перехід</th>\n",
       "      <th>Спеціалізований хліб</th>\n",
       "      <th>Спеціалізоване м'ясо</th>\n",
       "      <th>Спеціалізований сир</th>\n",
       "    </tr>\n",
       "  </thead>\n",
       "  <tbody>\n",
       "    <tr>\n",
       "      <th>0</th>\n",
       "      <td>не успішний</td>\n",
       "      <td>9.0</td>\n",
       "      <td>1</td>\n",
       "      <td>1</td>\n",
       "      <td>Соціальний</td>\n",
       "      <td>3.0</td>\n",
       "      <td>659.0</td>\n",
       "      <td>76.85</td>\n",
       "      <td>108.0</td>\n",
       "      <td>14910.0</td>\n",
       "      <td>0</td>\n",
       "      <td>0</td>\n",
       "      <td>0</td>\n",
       "      <td>0</td>\n",
       "      <td>0</td>\n",
       "    </tr>\n",
       "    <tr>\n",
       "      <th>1</th>\n",
       "      <td>не успішний</td>\n",
       "      <td>22.0</td>\n",
       "      <td>1</td>\n",
       "      <td>1</td>\n",
       "      <td>Соціальний</td>\n",
       "      <td>4.1</td>\n",
       "      <td>1518.0</td>\n",
       "      <td>84.86</td>\n",
       "      <td>750.0</td>\n",
       "      <td>9030.0</td>\n",
       "      <td>0</td>\n",
       "      <td>0</td>\n",
       "      <td>0</td>\n",
       "      <td>0</td>\n",
       "      <td>0</td>\n",
       "    </tr>\n",
       "    <tr>\n",
       "      <th>2</th>\n",
       "      <td>не успішний</td>\n",
       "      <td>13.0</td>\n",
       "      <td>1</td>\n",
       "      <td>1</td>\n",
       "      <td>Соціальний</td>\n",
       "      <td>3.0</td>\n",
       "      <td>476.0</td>\n",
       "      <td>112.02</td>\n",
       "      <td>0.0</td>\n",
       "      <td>9030.0</td>\n",
       "      <td>0</td>\n",
       "      <td>0</td>\n",
       "      <td>0</td>\n",
       "      <td>0</td>\n",
       "      <td>0</td>\n",
       "    </tr>\n",
       "    <tr>\n",
       "      <th>3</th>\n",
       "      <td>не успішний</td>\n",
       "      <td>18.0</td>\n",
       "      <td>1</td>\n",
       "      <td>1</td>\n",
       "      <td>Стандартний</td>\n",
       "      <td>3.0</td>\n",
       "      <td>1310.0</td>\n",
       "      <td>119.80</td>\n",
       "      <td>0.0</td>\n",
       "      <td>13930.0</td>\n",
       "      <td>0</td>\n",
       "      <td>0</td>\n",
       "      <td>0</td>\n",
       "      <td>0</td>\n",
       "      <td>0</td>\n",
       "    </tr>\n",
       "    <tr>\n",
       "      <th>4</th>\n",
       "      <td>не успішний</td>\n",
       "      <td>25.0</td>\n",
       "      <td>1</td>\n",
       "      <td>1</td>\n",
       "      <td>Соціальний</td>\n",
       "      <td>4.0</td>\n",
       "      <td>2029.0</td>\n",
       "      <td>94.88</td>\n",
       "      <td>0.0</td>\n",
       "      <td>14560.0</td>\n",
       "      <td>0</td>\n",
       "      <td>0</td>\n",
       "      <td>0</td>\n",
       "      <td>0</td>\n",
       "      <td>0</td>\n",
       "    </tr>\n",
       "  </tbody>\n",
       "</table>\n",
       "</div>"
      ],
      "text/plain": [
       "         Успех  Торговельна площа, кв. м.  Этаж  Количество касс          Тип  \\\n",
       "0  не успішний                        9.0     1                1   Соціальний   \n",
       "1  не успішний                       22.0     1                1   Соціальний   \n",
       "2  не успішний                       13.0     1                1   Соціальний   \n",
       "3  не успішний                       18.0     1                1  Стандартний   \n",
       "4  не успішний                       25.0     1                1   Соціальний   \n",
       "\n",
       "   Рейтинг в гуглі  Количество чеков  Средний чек  Населення  \\\n",
       "0              3.0             659.0        76.85      108.0   \n",
       "1              4.1            1518.0        84.86      750.0   \n",
       "2              3.0             476.0       112.02        0.0   \n",
       "3              3.0            1310.0       119.80        0.0   \n",
       "4              4.0            2029.0        94.88        0.0   \n",
       "\n",
       "   Середній дохід населення  Зупинка ГТ додому  Пішохідний перехід  \\\n",
       "0                   14910.0                  0                   0   \n",
       "1                    9030.0                  0                   0   \n",
       "2                    9030.0                  0                   0   \n",
       "3                   13930.0                  0                   0   \n",
       "4                   14560.0                  0                   0   \n",
       "\n",
       "   Спеціалізований хліб  Спеціалізоване м'ясо  Спеціалізований сир  \n",
       "0                     0                     0                    0  \n",
       "1                     0                     0                    0  \n",
       "2                     0                     0                    0  \n",
       "3                     0                     0                    0  \n",
       "4                     0                     0                    0  "
      ]
     },
     "execution_count": 26,
     "metadata": {},
     "output_type": "execute_result"
    }
   ],
   "source": [
    "df.head()"
   ]
  },
  {
   "cell_type": "code",
   "execution_count": 27,
   "id": "4e6d87ca",
   "metadata": {},
   "outputs": [
    {
     "name": "stdout",
     "output_type": "stream",
     "text": [
      "<class 'pandas.core.frame.DataFrame'>\n",
      "RangeIndex: 69 entries, 0 to 68\n",
      "Data columns (total 15 columns):\n",
      " #   Column                     Non-Null Count  Dtype  \n",
      "---  ------                     --------------  -----  \n",
      " 0   Успех                      69 non-null     object \n",
      " 1   Торговельна площа, кв. м.  69 non-null     float64\n",
      " 2   Этаж                       69 non-null     int64  \n",
      " 3   Количество касс            69 non-null     int64  \n",
      " 4   Тип                        69 non-null     object \n",
      " 5   Рейтинг в гуглі            69 non-null     float64\n",
      " 6   Количество чеков           62 non-null     float64\n",
      " 7   Средний чек                62 non-null     float64\n",
      " 8   Населення                  64 non-null     float64\n",
      " 9   Середній дохід населення   64 non-null     float64\n",
      " 10  Зупинка ГТ додому          69 non-null     int64  \n",
      " 11  Пішохідний перехід         69 non-null     int64  \n",
      " 12  Спеціалізований хліб       69 non-null     int64  \n",
      " 13  Спеціалізоване м'ясо       69 non-null     int64  \n",
      " 14  Спеціалізований сир        69 non-null     int64  \n",
      "dtypes: float64(6), int64(7), object(2)\n",
      "memory usage: 8.2+ KB\n"
     ]
    }
   ],
   "source": [
    "df.info()"
   ]
  },
  {
   "cell_type": "markdown",
   "id": "fd3931f2",
   "metadata": {},
   "source": [
    "# Null values"
   ]
  },
  {
   "cell_type": "code",
   "execution_count": 42,
   "id": "73f2f974",
   "metadata": {},
   "outputs": [
    {
     "data": {
      "image/png": "[encoded data removed]",
      "text/plain": [
       "<Figure size 432x288 with 1 Axes>"
      ]
     },
     "metadata": {
      "needs_background": "light"
     },
     "output_type": "display_data"
    }
   ],
   "source": [
    "fig = plt.figure()\n",
    "ax = fig.add_axes([0, 0, 0.5, 0.5])\n",
    "missings = pd.DataFrame(df.isnull().sum())\n",
    "vars_with_missings = missings[missings > 1].dropna().index.tolist()\n",
    "sns.heatmap(df[vars_with_missings].isnull(),\n",
    "            cbar=False, yticklabels=False, cmap='inferno', ax=ax)\n",
    "plt.show()"
   ]
  },
  {
   "cell_type": "markdown",
   "id": "2384cba9",
   "metadata": {},
   "source": [
    "Заполним недостающие значения"
   ]
  },
  {
   "cell_type": "code",
   "execution_count": 43,
   "id": "f7c6a38f",
   "metadata": {},
   "outputs": [
    {
     "data": {
      "image/png": "[encoded data removed]",
      "text/plain": [
       "<Figure size 432x288 with 1 Axes>"
      ]
     },
     "metadata": {
      "needs_background": "light"
     },
     "output_type": "display_data"
    }
   ],
   "source": [
    "df['Количество чеков'] = df['Количество чеков'].fillna(df['Количество чеков'].mean())\n",
    "df['Средний чек'] = df['Средний чек'].fillna(df['Средний чек'].mean())\n",
    "df['Населення'] = df['Населення'].fillna(df['Населення'].mean())\n",
    "df['Середній дохід населення'] = df['Середній дохід населення'].fillna(df['Середній дохід населення'].mean())\n",
    "fig = plt.figure()\n",
    "ax = fig.add_axes([0, 0, 0.5, 0.5])\n",
    "missings = pd.DataFrame(df.isnull().sum())\n",
    "vars_with_missings = missings[missings > 1].dropna().index.tolist()\n",
    "sns.heatmap(df[vars_with_missings].isnull(),\n",
    "            cbar=False, yticklabels=False, cmap='inferno', ax=ax)\n",
    "plt.show()"
   ]
  },
  {
   "cell_type": "markdown",
   "id": "158e913a",
   "metadata": {},
   "source": [
    "# Encoding"
   ]
  },
  {
   "cell_type": "code",
   "execution_count": 54,
   "id": "59180ca8",
   "metadata": {},
   "outputs": [
    {
     "data": {
      "text/plain": [
       "Преміальний        29\n",
       "Стандартний        19\n",
       "Соціальний         18\n",
       "Соціальний Плюс     2\n",
       "Стандарт Плюс       1\n",
       "Name: Тип, dtype: int64"
      ]
     },
     "execution_count": 54,
     "metadata": {},
     "output_type": "execute_result"
    }
   ],
   "source": [
    "df.Тип.value_counts()"
   ]
  },
  {
   "cell_type": "code",
   "execution_count": 55,
   "id": "a55230f2",
   "metadata": {},
   "outputs": [],
   "source": [
    "type = {'Стандарт Плюс':0,'Соціальний Плюс':1, 'Соціальний':2, 'Стандартний':3, 'Преміальний':4}\n",
    "df['Тип'] = df['Тип'].map(type)"
   ]
  },
  {
   "cell_type": "code",
   "execution_count": 56,
   "id": "a9215405",
   "metadata": {},
   "outputs": [
    {
     "data": {
      "text/html": [
       "<div>\n",
       "<style scoped>\n",
       "    .dataframe tbody tr th:only-of-type {\n",
       "        vertical-align: middle;\n",
       "    }\n",
       "\n",
       "    .dataframe tbody tr th {\n",
       "        vertical-align: top;\n",
       "    }\n",
       "\n",
       "    .dataframe thead th {\n",
       "        text-align: right;\n",
       "    }\n",
       "</style>\n",
       "<table border=\"1\" class=\"dataframe\">\n",
       "  <thead>\n",
       "    <tr style=\"text-align: right;\">\n",
       "      <th></th>\n",
       "      <th>Успех</th>\n",
       "      <th>Торговельна площа, кв. м.</th>\n",
       "      <th>Этаж</th>\n",
       "      <th>Количество касс</th>\n",
       "      <th>Тип</th>\n",
       "      <th>Рейтинг в гуглі</th>\n",
       "      <th>Количество чеков</th>\n",
       "      <th>Средний чек</th>\n",
       "      <th>Населення</th>\n",
       "      <th>Середній дохід населення</th>\n",
       "      <th>Зупинка ГТ додому</th>\n",
       "      <th>Пішохідний перехід</th>\n",
       "      <th>Спеціалізований хліб</th>\n",
       "      <th>Спеціалізоване м'ясо</th>\n",
       "      <th>Спеціалізований сир</th>\n",
       "    </tr>\n",
       "  </thead>\n",
       "  <tbody>\n",
       "    <tr>\n",
       "      <th>0</th>\n",
       "      <td>не успішний</td>\n",
       "      <td>9.00</td>\n",
       "      <td>1</td>\n",
       "      <td>1</td>\n",
       "      <td>2</td>\n",
       "      <td>3.0</td>\n",
       "      <td>659.0</td>\n",
       "      <td>76.85</td>\n",
       "      <td>108.0</td>\n",
       "      <td>14910.0</td>\n",
       "      <td>0</td>\n",
       "      <td>0</td>\n",
       "      <td>0</td>\n",
       "      <td>0</td>\n",
       "      <td>0</td>\n",
       "    </tr>\n",
       "    <tr>\n",
       "      <th>1</th>\n",
       "      <td>не успішний</td>\n",
       "      <td>22.00</td>\n",
       "      <td>1</td>\n",
       "      <td>1</td>\n",
       "      <td>2</td>\n",
       "      <td>4.1</td>\n",
       "      <td>1518.0</td>\n",
       "      <td>84.86</td>\n",
       "      <td>750.0</td>\n",
       "      <td>9030.0</td>\n",
       "      <td>0</td>\n",
       "      <td>0</td>\n",
       "      <td>0</td>\n",
       "      <td>0</td>\n",
       "      <td>0</td>\n",
       "    </tr>\n",
       "    <tr>\n",
       "      <th>2</th>\n",
       "      <td>не успішний</td>\n",
       "      <td>13.00</td>\n",
       "      <td>1</td>\n",
       "      <td>1</td>\n",
       "      <td>2</td>\n",
       "      <td>3.0</td>\n",
       "      <td>476.0</td>\n",
       "      <td>112.02</td>\n",
       "      <td>0.0</td>\n",
       "      <td>9030.0</td>\n",
       "      <td>0</td>\n",
       "      <td>0</td>\n",
       "      <td>0</td>\n",
       "      <td>0</td>\n",
       "      <td>0</td>\n",
       "    </tr>\n",
       "    <tr>\n",
       "      <th>3</th>\n",
       "      <td>не успішний</td>\n",
       "      <td>18.00</td>\n",
       "      <td>1</td>\n",
       "      <td>1</td>\n",
       "      <td>3</td>\n",
       "      <td>3.0</td>\n",
       "      <td>1310.0</td>\n",
       "      <td>119.80</td>\n",
       "      <td>0.0</td>\n",
       "      <td>13930.0</td>\n",
       "      <td>0</td>\n",
       "      <td>0</td>\n",
       "      <td>0</td>\n",
       "      <td>0</td>\n",
       "      <td>0</td>\n",
       "    </tr>\n",
       "    <tr>\n",
       "      <th>4</th>\n",
       "      <td>не успішний</td>\n",
       "      <td>25.00</td>\n",
       "      <td>1</td>\n",
       "      <td>1</td>\n",
       "      <td>2</td>\n",
       "      <td>4.0</td>\n",
       "      <td>2029.0</td>\n",
       "      <td>94.88</td>\n",
       "      <td>0.0</td>\n",
       "      <td>14560.0</td>\n",
       "      <td>0</td>\n",
       "      <td>0</td>\n",
       "      <td>0</td>\n",
       "      <td>0</td>\n",
       "      <td>0</td>\n",
       "    </tr>\n",
       "    <tr>\n",
       "      <th>...</th>\n",
       "      <td>...</td>\n",
       "      <td>...</td>\n",
       "      <td>...</td>\n",
       "      <td>...</td>\n",
       "      <td>...</td>\n",
       "      <td>...</td>\n",
       "      <td>...</td>\n",
       "      <td>...</td>\n",
       "      <td>...</td>\n",
       "      <td>...</td>\n",
       "      <td>...</td>\n",
       "      <td>...</td>\n",
       "      <td>...</td>\n",
       "      <td>...</td>\n",
       "      <td>...</td>\n",
       "    </tr>\n",
       "    <tr>\n",
       "      <th>64</th>\n",
       "      <td>успішний</td>\n",
       "      <td>40.78</td>\n",
       "      <td>1</td>\n",
       "      <td>2</td>\n",
       "      <td>4</td>\n",
       "      <td>4.0</td>\n",
       "      <td>6884.0</td>\n",
       "      <td>107.37</td>\n",
       "      <td>963.0</td>\n",
       "      <td>9800.0</td>\n",
       "      <td>1</td>\n",
       "      <td>0</td>\n",
       "      <td>0</td>\n",
       "      <td>1</td>\n",
       "      <td>1</td>\n",
       "    </tr>\n",
       "    <tr>\n",
       "      <th>65</th>\n",
       "      <td>успішний</td>\n",
       "      <td>21.50</td>\n",
       "      <td>1</td>\n",
       "      <td>1</td>\n",
       "      <td>4</td>\n",
       "      <td>2.3</td>\n",
       "      <td>4721.0</td>\n",
       "      <td>89.13</td>\n",
       "      <td>0.0</td>\n",
       "      <td>12600.0</td>\n",
       "      <td>0</td>\n",
       "      <td>0</td>\n",
       "      <td>0</td>\n",
       "      <td>0</td>\n",
       "      <td>0</td>\n",
       "    </tr>\n",
       "    <tr>\n",
       "      <th>66</th>\n",
       "      <td>не успішний</td>\n",
       "      <td>115.23</td>\n",
       "      <td>1</td>\n",
       "      <td>1</td>\n",
       "      <td>3</td>\n",
       "      <td>3.0</td>\n",
       "      <td>3286.0</td>\n",
       "      <td>105.62</td>\n",
       "      <td>315.0</td>\n",
       "      <td>10570.0</td>\n",
       "      <td>0</td>\n",
       "      <td>0</td>\n",
       "      <td>0</td>\n",
       "      <td>0</td>\n",
       "      <td>0</td>\n",
       "    </tr>\n",
       "    <tr>\n",
       "      <th>67</th>\n",
       "      <td>не успішний</td>\n",
       "      <td>34.80</td>\n",
       "      <td>1</td>\n",
       "      <td>2</td>\n",
       "      <td>2</td>\n",
       "      <td>4.3</td>\n",
       "      <td>3963.0</td>\n",
       "      <td>168.07</td>\n",
       "      <td>0.0</td>\n",
       "      <td>12460.0</td>\n",
       "      <td>0</td>\n",
       "      <td>0</td>\n",
       "      <td>0</td>\n",
       "      <td>0</td>\n",
       "      <td>0</td>\n",
       "    </tr>\n",
       "    <tr>\n",
       "      <th>68</th>\n",
       "      <td>успішний</td>\n",
       "      <td>22.00</td>\n",
       "      <td>1</td>\n",
       "      <td>1</td>\n",
       "      <td>4</td>\n",
       "      <td>4.9</td>\n",
       "      <td>4200.0</td>\n",
       "      <td>101.73</td>\n",
       "      <td>678.0</td>\n",
       "      <td>10430.0</td>\n",
       "      <td>0</td>\n",
       "      <td>0</td>\n",
       "      <td>1</td>\n",
       "      <td>0</td>\n",
       "      <td>0</td>\n",
       "    </tr>\n",
       "  </tbody>\n",
       "</table>\n",
       "<p>69 rows × 15 columns</p>\n",
       "</div>"
      ],
      "text/plain": [
       "          Успех  Торговельна площа, кв. м.  Этаж  Количество касс  Тип  \\\n",
       "0   не успішний                       9.00     1                1    2   \n",
       "1   не успішний                      22.00     1                1    2   \n",
       "2   не успішний                      13.00     1                1    2   \n",
       "3   не успішний                      18.00     1                1    3   \n",
       "4   не успішний                      25.00     1                1    2   \n",
       "..          ...                        ...   ...              ...  ...   \n",
       "64     успішний                      40.78     1                2    4   \n",
       "65     успішний                      21.50     1                1    4   \n",
       "66  не успішний                     115.23     1                1    3   \n",
       "67  не успішний                      34.80     1                2    2   \n",
       "68     успішний                      22.00     1                1    4   \n",
       "\n",
       "    Рейтинг в гуглі  Количество чеков  Средний чек  Населення  \\\n",
       "0               3.0             659.0        76.85      108.0   \n",
       "1               4.1            1518.0        84.86      750.0   \n",
       "2               3.0             476.0       112.02        0.0   \n",
       "3               3.0            1310.0       119.80        0.0   \n",
       "4               4.0            2029.0        94.88        0.0   \n",
       "..              ...               ...          ...        ...   \n",
       "64              4.0            6884.0       107.37      963.0   \n",
       "65              2.3            4721.0        89.13        0.0   \n",
       "66              3.0            3286.0       105.62      315.0   \n",
       "67              4.3            3963.0       168.07        0.0   \n",
       "68              4.9            4200.0       101.73      678.0   \n",
       "\n",
       "    Середній дохід населення  Зупинка ГТ додому  Пішохідний перехід  \\\n",
       "0                    14910.0                  0                   0   \n",
       "1                     9030.0                  0                   0   \n",
       "2                     9030.0                  0                   0   \n",
       "3                    13930.0                  0                   0   \n",
       "4                    14560.0                  0                   0   \n",
       "..                       ...                ...                 ...   \n",
       "64                    9800.0                  1                   0   \n",
       "65                   12600.0                  0                   0   \n",
       "66                   10570.0                  0                   0   \n",
       "67                   12460.0                  0                   0   \n",
       "68                   10430.0                  0                   0   \n",
       "\n",
       "    Спеціалізований хліб  Спеціалізоване м'ясо  Спеціалізований сир  \n",
       "0                      0                     0                    0  \n",
       "1                      0                     0                    0  \n",
       "2                      0                     0                    0  \n",
       "3                      0                     0                    0  \n",
       "4                      0                     0                    0  \n",
       "..                   ...                   ...                  ...  \n",
       "64                     0                     1                    1  \n",
       "65                     0                     0                    0  \n",
       "66                     0                     0                    0  \n",
       "67                     0                     0                    0  \n",
       "68                     1                     0                    0  \n",
       "\n",
       "[69 rows x 15 columns]"
      ]
     },
     "execution_count": 56,
     "metadata": {},
     "output_type": "execute_result"
    }
   ],
   "source": [
    "df"
   ]
  },
  {
   "cell_type": "code",
   "execution_count": 57,
   "id": "8b9f41c2",
   "metadata": {},
   "outputs": [
    {
     "data": {
      "text/plain": [
       "не успішний    44\n",
       "успішний       25\n",
       "Name: Успех, dtype: int64"
      ]
     },
     "execution_count": 57,
     "metadata": {},
     "output_type": "execute_result"
    }
   ],
   "source": [
    "df.Успех.value_counts()"
   ]
  },
  {
   "cell_type": "code",
   "execution_count": 58,
   "id": "69bc572c",
   "metadata": {},
   "outputs": [
    {
     "data": {
      "text/html": [
       "<div>\n",
       "<style scoped>\n",
       "    .dataframe tbody tr th:only-of-type {\n",
       "        vertical-align: middle;\n",
       "    }\n",
       "\n",
       "    .dataframe tbody tr th {\n",
       "        vertical-align: top;\n",
       "    }\n",
       "\n",
       "    .dataframe thead th {\n",
       "        text-align: right;\n",
       "    }\n",
       "</style>\n",
       "<table border=\"1\" class=\"dataframe\">\n",
       "  <thead>\n",
       "    <tr style=\"text-align: right;\">\n",
       "      <th></th>\n",
       "      <th>Успех</th>\n",
       "      <th>Торговельна площа, кв. м.</th>\n",
       "      <th>Этаж</th>\n",
       "      <th>Количество касс</th>\n",
       "      <th>Тип</th>\n",
       "      <th>Рейтинг в гуглі</th>\n",
       "      <th>Количество чеков</th>\n",
       "      <th>Средний чек</th>\n",
       "      <th>Населення</th>\n",
       "      <th>Середній дохід населення</th>\n",
       "      <th>Зупинка ГТ додому</th>\n",
       "      <th>Пішохідний перехід</th>\n",
       "      <th>Спеціалізований хліб</th>\n",
       "      <th>Спеціалізоване м'ясо</th>\n",
       "      <th>Спеціалізований сир</th>\n",
       "    </tr>\n",
       "  </thead>\n",
       "  <tbody>\n",
       "    <tr>\n",
       "      <th>0</th>\n",
       "      <td>0</td>\n",
       "      <td>9.00</td>\n",
       "      <td>1</td>\n",
       "      <td>1</td>\n",
       "      <td>2</td>\n",
       "      <td>3.0</td>\n",
       "      <td>659.0</td>\n",
       "      <td>76.85</td>\n",
       "      <td>108.0</td>\n",
       "      <td>14910.0</td>\n",
       "      <td>0</td>\n",
       "      <td>0</td>\n",
       "      <td>0</td>\n",
       "      <td>0</td>\n",
       "      <td>0</td>\n",
       "    </tr>\n",
       "    <tr>\n",
       "      <th>1</th>\n",
       "      <td>0</td>\n",
       "      <td>22.00</td>\n",
       "      <td>1</td>\n",
       "      <td>1</td>\n",
       "      <td>2</td>\n",
       "      <td>4.1</td>\n",
       "      <td>1518.0</td>\n",
       "      <td>84.86</td>\n",
       "      <td>750.0</td>\n",
       "      <td>9030.0</td>\n",
       "      <td>0</td>\n",
       "      <td>0</td>\n",
       "      <td>0</td>\n",
       "      <td>0</td>\n",
       "      <td>0</td>\n",
       "    </tr>\n",
       "    <tr>\n",
       "      <th>2</th>\n",
       "      <td>0</td>\n",
       "      <td>13.00</td>\n",
       "      <td>1</td>\n",
       "      <td>1</td>\n",
       "      <td>2</td>\n",
       "      <td>3.0</td>\n",
       "      <td>476.0</td>\n",
       "      <td>112.02</td>\n",
       "      <td>0.0</td>\n",
       "      <td>9030.0</td>\n",
       "      <td>0</td>\n",
       "      <td>0</td>\n",
       "      <td>0</td>\n",
       "      <td>0</td>\n",
       "      <td>0</td>\n",
       "    </tr>\n",
       "    <tr>\n",
       "      <th>3</th>\n",
       "      <td>0</td>\n",
       "      <td>18.00</td>\n",
       "      <td>1</td>\n",
       "      <td>1</td>\n",
       "      <td>3</td>\n",
       "      <td>3.0</td>\n",
       "      <td>1310.0</td>\n",
       "      <td>119.80</td>\n",
       "      <td>0.0</td>\n",
       "      <td>13930.0</td>\n",
       "      <td>0</td>\n",
       "      <td>0</td>\n",
       "      <td>0</td>\n",
       "      <td>0</td>\n",
       "      <td>0</td>\n",
       "    </tr>\n",
       "    <tr>\n",
       "      <th>4</th>\n",
       "      <td>0</td>\n",
       "      <td>25.00</td>\n",
       "      <td>1</td>\n",
       "      <td>1</td>\n",
       "      <td>2</td>\n",
       "      <td>4.0</td>\n",
       "      <td>2029.0</td>\n",
       "      <td>94.88</td>\n",
       "      <td>0.0</td>\n",
       "      <td>14560.0</td>\n",
       "      <td>0</td>\n",
       "      <td>0</td>\n",
       "      <td>0</td>\n",
       "      <td>0</td>\n",
       "      <td>0</td>\n",
       "    </tr>\n",
       "    <tr>\n",
       "      <th>...</th>\n",
       "      <td>...</td>\n",
       "      <td>...</td>\n",
       "      <td>...</td>\n",
       "      <td>...</td>\n",
       "      <td>...</td>\n",
       "      <td>...</td>\n",
       "      <td>...</td>\n",
       "      <td>...</td>\n",
       "      <td>...</td>\n",
       "      <td>...</td>\n",
       "      <td>...</td>\n",
       "      <td>...</td>\n",
       "      <td>...</td>\n",
       "      <td>...</td>\n",
       "      <td>...</td>\n",
       "    </tr>\n",
       "    <tr>\n",
       "      <th>64</th>\n",
       "      <td>1</td>\n",
       "      <td>40.78</td>\n",
       "      <td>1</td>\n",
       "      <td>2</td>\n",
       "      <td>4</td>\n",
       "      <td>4.0</td>\n",
       "      <td>6884.0</td>\n",
       "      <td>107.37</td>\n",
       "      <td>963.0</td>\n",
       "      <td>9800.0</td>\n",
       "      <td>1</td>\n",
       "      <td>0</td>\n",
       "      <td>0</td>\n",
       "      <td>1</td>\n",
       "      <td>1</td>\n",
       "    </tr>\n",
       "    <tr>\n",
       "      <th>65</th>\n",
       "      <td>1</td>\n",
       "      <td>21.50</td>\n",
       "      <td>1</td>\n",
       "      <td>1</td>\n",
       "      <td>4</td>\n",
       "      <td>2.3</td>\n",
       "      <td>4721.0</td>\n",
       "      <td>89.13</td>\n",
       "      <td>0.0</td>\n",
       "      <td>12600.0</td>\n",
       "      <td>0</td>\n",
       "      <td>0</td>\n",
       "      <td>0</td>\n",
       "      <td>0</td>\n",
       "      <td>0</td>\n",
       "    </tr>\n",
       "    <tr>\n",
       "      <th>66</th>\n",
       "      <td>0</td>\n",
       "      <td>115.23</td>\n",
       "      <td>1</td>\n",
       "      <td>1</td>\n",
       "      <td>3</td>\n",
       "      <td>3.0</td>\n",
       "      <td>3286.0</td>\n",
       "      <td>105.62</td>\n",
       "      <td>315.0</td>\n",
       "      <td>10570.0</td>\n",
       "      <td>0</td>\n",
       "      <td>0</td>\n",
       "      <td>0</td>\n",
       "      <td>0</td>\n",
       "      <td>0</td>\n",
       "    </tr>\n",
       "    <tr>\n",
       "      <th>67</th>\n",
       "      <td>0</td>\n",
       "      <td>34.80</td>\n",
       "      <td>1</td>\n",
       "      <td>2</td>\n",
       "      <td>2</td>\n",
       "      <td>4.3</td>\n",
       "      <td>3963.0</td>\n",
       "      <td>168.07</td>\n",
       "      <td>0.0</td>\n",
       "      <td>12460.0</td>\n",
       "      <td>0</td>\n",
       "      <td>0</td>\n",
       "      <td>0</td>\n",
       "      <td>0</td>\n",
       "      <td>0</td>\n",
       "    </tr>\n",
       "    <tr>\n",
       "      <th>68</th>\n",
       "      <td>1</td>\n",
       "      <td>22.00</td>\n",
       "      <td>1</td>\n",
       "      <td>1</td>\n",
       "      <td>4</td>\n",
       "      <td>4.9</td>\n",
       "      <td>4200.0</td>\n",
       "      <td>101.73</td>\n",
       "      <td>678.0</td>\n",
       "      <td>10430.0</td>\n",
       "      <td>0</td>\n",
       "      <td>0</td>\n",
       "      <td>1</td>\n",
       "      <td>0</td>\n",
       "      <td>0</td>\n",
       "    </tr>\n",
       "  </tbody>\n",
       "</table>\n",
       "<p>69 rows × 15 columns</p>\n",
       "</div>"
      ],
      "text/plain": [
       "    Успех  Торговельна площа, кв. м.  Этаж  Количество касс  Тип  \\\n",
       "0       0                       9.00     1                1    2   \n",
       "1       0                      22.00     1                1    2   \n",
       "2       0                      13.00     1                1    2   \n",
       "3       0                      18.00     1                1    3   \n",
       "4       0                      25.00     1                1    2   \n",
       "..    ...                        ...   ...              ...  ...   \n",
       "64      1                      40.78     1                2    4   \n",
       "65      1                      21.50     1                1    4   \n",
       "66      0                     115.23     1                1    3   \n",
       "67      0                      34.80     1                2    2   \n",
       "68      1                      22.00     1                1    4   \n",
       "\n",
       "    Рейтинг в гуглі  Количество чеков  Средний чек  Населення  \\\n",
       "0               3.0             659.0        76.85      108.0   \n",
       "1               4.1            1518.0        84.86      750.0   \n",
       "2               3.0             476.0       112.02        0.0   \n",
       "3               3.0            1310.0       119.80        0.0   \n",
       "4               4.0            2029.0        94.88        0.0   \n",
       "..              ...               ...          ...        ...   \n",
       "64              4.0            6884.0       107.37      963.0   \n",
       "65              2.3            4721.0        89.13        0.0   \n",
       "66              3.0            3286.0       105.62      315.0   \n",
       "67              4.3            3963.0       168.07        0.0   \n",
       "68              4.9            4200.0       101.73      678.0   \n",
       "\n",
       "    Середній дохід населення  Зупинка ГТ додому  Пішохідний перехід  \\\n",
       "0                    14910.0                  0                   0   \n",
       "1                     9030.0                  0                   0   \n",
       "2                     9030.0                  0                   0   \n",
       "3                    13930.0                  0                   0   \n",
       "4                    14560.0                  0                   0   \n",
       "..                       ...                ...                 ...   \n",
       "64                    9800.0                  1                   0   \n",
       "65                   12600.0                  0                   0   \n",
       "66                   10570.0                  0                   0   \n",
       "67                   12460.0                  0                   0   \n",
       "68                   10430.0                  0                   0   \n",
       "\n",
       "    Спеціалізований хліб  Спеціалізоване м'ясо  Спеціалізований сир  \n",
       "0                      0                     0                    0  \n",
       "1                      0                     0                    0  \n",
       "2                      0                     0                    0  \n",
       "3                      0                     0                    0  \n",
       "4                      0                     0                    0  \n",
       "..                   ...                   ...                  ...  \n",
       "64                     0                     1                    1  \n",
       "65                     0                     0                    0  \n",
       "66                     0                     0                    0  \n",
       "67                     0                     0                    0  \n",
       "68                     1                     0                    0  \n",
       "\n",
       "[69 rows x 15 columns]"
      ]
     },
     "execution_count": 58,
     "metadata": {},
     "output_type": "execute_result"
    }
   ],
   "source": [
    "type_ = {'не успішний':0,'успішний':1}\n",
    "df['Успех'] = df['Успех'].map(type_)\n",
    "df"
   ]
  },
  {
   "cell_type": "code",
   "execution_count": 59,
   "id": "99593321",
   "metadata": {},
   "outputs": [
    {
     "data": {
      "text/plain": [
       "1    69\n",
       "Name: Этаж, dtype: int64"
      ]
     },
     "execution_count": 59,
     "metadata": {},
     "output_type": "execute_result"
    }
   ],
   "source": [
    "df.Этаж.value_counts()"
   ]
  },
  {
   "cell_type": "markdown",
   "id": "eb45ee15",
   "metadata": {},
   "source": [
    "# Chouse features"
   ]
  },
  {
   "cell_type": "code",
   "execution_count": 60,
   "id": "628326eb",
   "metadata": {},
   "outputs": [
    {
     "data": {
      "image/png": "[encoded data removed]",
      "text/plain": [
       "<Figure size 864x648 with 2 Axes>"
      ]
     },
     "metadata": {
      "needs_background": "light"
     },
     "output_type": "display_data"
    }
   ],
   "source": [
    "# Cheking correlations\n",
    "import seaborn as sns\n",
    "corrmat = df.corr()\n",
    "f, ax = plt.subplots(figsize=(12, 9))\n",
    "sns.heatmap(corrmat, annot=True)\n",
    "plt.show()"
   ]
  },
  {
   "cell_type": "markdown",
   "id": "c0e1d927",
   "metadata": {},
   "source": [
    "# Classification Tree & Ensembles"
   ]
  },
  {
   "cell_type": "code",
   "execution_count": 86,
   "id": "d6ce90f7",
   "metadata": {},
   "outputs": [],
   "source": [
    "#!pip install sklearn"
   ]
  },
  {
   "cell_type": "code",
   "execution_count": 92,
   "id": "6cfc7e95",
   "metadata": {},
   "outputs": [],
   "source": [
    "from sklearn.model_selection import train_test_split\n",
    "X_train, X_test, y_train, y_test = train_test_split(X, y, test_size=0.2, random_state=13)"
   ]
  },
  {
   "cell_type": "code",
   "execution_count": 93,
   "id": "8253a859",
   "metadata": {},
   "outputs": [],
   "source": [
    "features = ['Количество чеков', 'Количество касс']\n",
    "X =df[features]\n",
    "y = df['Успех']\n",
    "X_train, X_test, y_train, y_test = train_test_split(X, y, test_size=0.2, random_state=10)"
   ]
  },
  {
   "cell_type": "code",
   "execution_count": 94,
   "id": "7c7ea00c",
   "metadata": {},
   "outputs": [],
   "source": [
    "def max_leaf_nodes(X_train, X_test, y_train, y_test, n):\n",
    "    mse_train = []\n",
    "    mse_test = []\n",
    "    for i in n:\n",
    "        ct = DecisionTreeClassifier(max_leaf_nodes = i, random_state=10).fit(X_train, y_train)\n",
    "        mse_train.append(mean_squared_error(y_train, ct.predict(X_train)))\n",
    "        mse_test.append(mean_squared_error(y_test, ct.predict(X_test)))\n",
    "    \n",
    "    fig, ax = plt.subplots(figsize=(8, 4))\n",
    "    ax.plot(n, mse_train, alpha=0.5, color='blue', label='train')\n",
    "    ax.plot(n, mse_test, alpha=0.5, color='red', label='test')\n",
    "    ax.set_ylabel(\"MSE\")\n",
    "    ax.set_xlabel(\"max_leaf_nodes\")"
   ]
  },
  {
   "cell_type": "code",
   "execution_count": 95,
   "id": "f158857a",
   "metadata": {},
   "outputs": [
    {
     "data": {
      "image/png": "[encoded data removed]",
      "text/plain": [
       "<Figure size 576x288 with 1 Axes>"
      ]
     },
     "metadata": {
      "needs_background": "light"
     },
     "output_type": "display_data"
    }
   ],
   "source": [
    "# The optimal number of max_leaf_nodes\n",
    "from sklearn.tree import DecisionTreeClassifier\n",
    "from sklearn.metrics import mean_squared_error\n",
    "max_leaf_nodes(X_train, X_test, y_train, y_test, [2, 4, 6, 8, 10])"
   ]
  },
  {
   "cell_type": "markdown",
   "id": "618f4373",
   "metadata": {},
   "source": [
    "# Model"
   ]
  },
  {
   "cell_type": "code",
   "execution_count": 96,
   "id": "3314c679",
   "metadata": {},
   "outputs": [],
   "source": [
    "# Fitting Classification Tree to the Training set (2 variables)\n",
    "ct = DecisionTreeClassifier(max_leaf_nodes = 3, criterion = 'entropy', random_state = 10).fit(X_train, y_train)"
   ]
  },
  {
   "cell_type": "markdown",
   "id": "68aa3435",
   "metadata": {},
   "source": [
    "# Result"
   ]
  },
  {
   "cell_type": "code",
   "execution_count": 97,
   "id": "6243e73b",
   "metadata": {},
   "outputs": [
    {
     "data": {
      "text/plain": [
       "0.8571428571428571"
      ]
     },
     "execution_count": 97,
     "metadata": {},
     "output_type": "execute_result"
    }
   ],
   "source": [
    "# Predicting the Test set results\n",
    "y_pred = ct.predict(X_test)\n",
    "ct.score(X_test,y_test)"
   ]
  },
  {
   "cell_type": "markdown",
   "id": "ce4807b6",
   "metadata": {},
   "source": [
    "Можем сделать вывод что в 85% модель соверашет правильных поступков"
   ]
  },
  {
   "cell_type": "code",
   "execution_count": 98,
   "id": "52f18ea8",
   "metadata": {},
   "outputs": [
    {
     "name": "stdout",
     "output_type": "stream",
     "text": [
      "[[9 2]\n",
      " [0 3]]\n"
     ]
    }
   ],
   "source": [
    "# Making the Confusion Matrix\n",
    "from sklearn.metrics import confusion_matrix\n",
    "cm = confusion_matrix(y_test, y_pred)\n",
    "print(cm)"
   ]
  },
  {
   "cell_type": "markdown",
   "id": "caea25ef",
   "metadata": {},
   "source": [
    "Как видно, 11 примеров распознано верно, 2 не верно"
   ]
  },
  {
   "cell_type": "code",
   "execution_count": 99,
   "id": "084308d6",
   "metadata": {},
   "outputs": [
    {
     "data": {
      "text/plain": [
       "Index(['Торговельна площа, кв. м.', 'Этаж', 'Количество касс', 'Тип',\n",
       "       'Рейтинг в гуглі', 'Количество чеков', 'Средний чек', 'Населення',\n",
       "       'Середній дохід населення', 'Зупинка ГТ додому', 'Пішохідний перехід',\n",
       "       'Спеціалізований хліб', 'Спеціалізоване м'ясо', 'Спеціалізований сир'],\n",
       "      dtype='object')"
      ]
     },
     "execution_count": 99,
     "metadata": {},
     "output_type": "execute_result"
    }
   ],
   "source": [
    "df.drop(columns=['Успех']).columns"
   ]
  },
  {
   "cell_type": "code",
   "execution_count": 100,
   "id": "37a66389",
   "metadata": {},
   "outputs": [
    {
     "data": {
      "text/plain": [
       "Text(0.5, 1.0, 'Boosting. Feature Importance')"
      ]
     },
     "execution_count": 100,
     "metadata": {},
     "output_type": "execute_result"
    },
    {
     "data": {
      "image/png": "[encoded data removed]",
      "text/plain": [
       "<Figure size 720x504 with 1 Axes>"
      ]
     },
     "metadata": {
      "needs_background": "light"
     },
     "output_type": "display_data"
    }
   ],
   "source": [
    "# Features importances\n",
    "col = features\n",
    "ct_imp = pd.DataFrame({'imp': ct.feature_importances_, 'col': col})\n",
    "ct_imp = ct_imp.sort_values(['imp', 'col'], ascending=[True, False]).iloc[-25:]\n",
    "ct_imp.plot(kind='barh', x='col', y='imp', figsize=(10, 7), legend=None)\n",
    "plt.title('Boosting. Feature Importance')"
   ]
  },
  {
   "cell_type": "markdown",
   "id": "1fba6a0a",
   "metadata": {},
   "source": [
    "# Visualisation"
   ]
  },
  {
   "cell_type": "code",
   "execution_count": null,
   "id": "87ae7de0",
   "metadata": {},
   "outputs": [],
   "source": [
    "# Visualising the Test set results\n",
    "from matplotlib.colors import ListedColormap\n",
    "X_set, y_set = X_test, y_test\n",
    "X1, X2 = np.meshgrid(np.arange(start = X_set['Количество чеков'].min() - 1, stop = X_set['Количество чеков'].max() + 1),\n",
    "                     np.arange(start = X_set['Количество касс'].min() - 1, stop = X_set['Количество касс'].max() + 1))\n",
    "plt.contourf(X1, X2, ct.predict(np.array([X1.ravel(), X2.ravel()]).T).reshape(X1.shape),\n",
    "             alpha = 0.75, cmap = ListedColormap(('red', 'green')))\n",
    "plt.xlim(X1.min(), X1.max())\n",
    "plt.ylim(X2.min(), X2.max())\n",
    "for i, j in enumerate(np.unique(y_set)):\n",
    "    plt.scatter(X_set['Количество чеков'][y_set == j], X_set['Количество касс'][y_set == j],\n",
    "                c = ListedColormap(('red', 'green'))(i), label = j)\n",
    "plt.title('Classification Tree (Test set)')\n",
    "plt.xlabel('Количество чеков')\n",
    "plt.ylabel('Количество касс')\n",
    "plt.legend()\n",
    "plt.show()"
   ]
  },
  {
   "cell_type": "markdown",
   "id": "bbf1e825",
   "metadata": {},
   "source": [
    "# Forest"
   ]
  },
  {
   "cell_type": "markdown",
   "id": "9be87f6b",
   "metadata": {},
   "source": [
    "# Paremeters"
   ]
  },
  {
   "cell_type": "code",
   "execution_count": 104,
   "id": "6c52e6af",
   "metadata": {},
   "outputs": [],
   "source": [
    "def rf_best_n_estimator(X_train, X_test, y_train, y_test, n):\n",
    "    mse_train = []\n",
    "    mse_test = []\n",
    "    for i in n:\n",
    "        rf = RandomForestClassifier(n_estimators=i, random_state=10).fit(X_train, y_train)\n",
    "        mse_train.append(mean_squared_error(y_train, rf.predict(X_train)))\n",
    "        mse_test.append(mean_squared_error(y_test, rf.predict(X_test)))\n",
    "    \n",
    "    fig, ax = plt.subplots(figsize=(8, 4))\n",
    "    ax.plot(n, mse_train, alpha=0.5, color='blue', label='train')\n",
    "    ax.plot(n, mse_test, alpha=0.5, color='red', label='test')\n",
    "    ax.set_ylabel(\"MSE\")\n",
    "    ax.set_xlabel(\"N_estimators\")"
   ]
  },
  {
   "cell_type": "code",
   "execution_count": 105,
   "id": "445a1f2a",
   "metadata": {},
   "outputs": [
    {
     "data": {
      "image/png": "[encoded data removed]",
      "text/plain": [
       "<Figure size 576x288 with 1 Axes>"
      ]
     },
     "metadata": {
      "needs_background": "light"
     },
     "output_type": "display_data"
    }
   ],
   "source": [
    "# The optimal number of trees \n",
    "from sklearn.ensemble import RandomForestClassifier    \n",
    "rf_best_n_estimator(X_train, X_test, y_train, y_test, [2, 5, 10, 15, 20])"
   ]
  },
  {
   "cell_type": "code",
   "execution_count": 106,
   "id": "398940dc",
   "metadata": {},
   "outputs": [],
   "source": [
    "def rf_max_leaf_nodes(X_train, X_test, y_train, y_test, n):\n",
    "    mse_train = []\n",
    "    mse_test = []\n",
    "    for i in n:\n",
    "        rf = RandomForestClassifier(n_estimators=5, max_leaf_nodes =i, random_state=10).fit(X_train, y_train)\n",
    "        mse_train.append(mean_squared_error(y_train, rf.predict(X_train)))\n",
    "        mse_test.append(mean_squared_error(y_test, rf.predict(X_test)))\n",
    "    \n",
    "    fig, ax = plt.subplots(figsize=(8, 4))\n",
    "    ax.plot(n, mse_train, alpha=0.5, color='blue', label='train')\n",
    "    ax.plot(n, mse_test, alpha=0.5, color='red', label='test')\n",
    "    ax.set_ylabel(\"MSE\")\n",
    "    ax.set_xlabel(\"max_leaf_nodes\")"
   ]
  },
  {
   "cell_type": "code",
   "execution_count": 107,
   "id": "3a1c4fd6",
   "metadata": {},
   "outputs": [
    {
     "data": {
      "image/png": "[encoded data removed]",
      "text/plain": [
       "<Figure size 576x288 with 1 Axes>"
      ]
     },
     "metadata": {
      "needs_background": "light"
     },
     "output_type": "display_data"
    }
   ],
   "source": [
    "# The optimal number of max_leaf_nodes\n",
    "rf_max_leaf_nodes(X_train, X_test, y_train, y_test, [2, 4, 6, 8, 10])"
   ]
  },
  {
   "cell_type": "markdown",
   "id": "e07b9def",
   "metadata": {},
   "source": [
    "# Model"
   ]
  },
  {
   "cell_type": "code",
   "execution_count": 109,
   "id": "dd7c1354",
   "metadata": {},
   "outputs": [],
   "source": [
    "# Fitting Random Forest to the Training set\n",
    "from sklearn.ensemble import RandomForestClassifier\n",
    "rf = RandomForestClassifier(n_estimators = 4, max_leaf_nodes = 6, random_state = 10).fit(X_train, y_train)"
   ]
  },
  {
   "cell_type": "markdown",
   "id": "30fee6a7",
   "metadata": {},
   "source": [
    "# Results"
   ]
  },
  {
   "cell_type": "code",
   "execution_count": 110,
   "id": "2f1ad92e",
   "metadata": {},
   "outputs": [
    {
     "data": {
      "text/plain": [
       "0.857"
      ]
     },
     "execution_count": 110,
     "metadata": {},
     "output_type": "execute_result"
    }
   ],
   "source": [
    "# Predicting the Test set results\n",
    "y_pred = rf.predict(X_test)\n",
    "y_pred = (y_pred > 0.5)\n",
    "rf.score(X_test,y_test).round(3)"
   ]
  },
  {
   "cell_type": "markdown",
   "id": "7c8c7792",
   "metadata": {},
   "source": [
    "\n",
    "Можем сделать вывод что в 86% модель совершет правильных поступков"
   ]
  },
  {
   "cell_type": "code",
   "execution_count": 111,
   "id": "291ab652",
   "metadata": {},
   "outputs": [
    {
     "name": "stdout",
     "output_type": "stream",
     "text": [
      "[[9 2]\n",
      " [0 3]]\n"
     ]
    }
   ],
   "source": [
    "# Making the Confusion Matrix\n",
    "from sklearn.metrics import confusion_matrix\n",
    "cm = confusion_matrix(y_test, y_pred)\n",
    "print(cm)"
   ]
  },
  {
   "cell_type": "markdown",
   "id": "4d0b4b21",
   "metadata": {},
   "source": [
    "\n",
    "Видим что 12 примеров распознано верно, 2 не верно"
   ]
  },
  {
   "cell_type": "code",
   "execution_count": 112,
   "id": "96b5bc15",
   "metadata": {},
   "outputs": [
    {
     "data": {
      "text/plain": [
       "Text(0.5, 1.0, 'Boosting. Feature Importance')"
      ]
     },
     "execution_count": 112,
     "metadata": {},
     "output_type": "execute_result"
    },
    {
     "data": {
      "image/png": "[encoded data removed]",
      "text/plain": [
       "<Figure size 720x504 with 1 Axes>"
      ]
     },
     "metadata": {
      "needs_background": "light"
     },
     "output_type": "display_data"
    }
   ],
   "source": [
    "# Features importances\n",
    "rf_imp = pd.DataFrame({'imp': rf.feature_importances_, 'col': col})\n",
    "rf_imp = rf_imp.sort_values(['imp', 'col'], ascending=[True, False]).iloc[-25:]\n",
    "rf_imp.plot(kind='barh', x='col', y='imp', figsize=(10, 7), legend=None)\n",
    "plt.title('Boosting. Feature Importance')"
   ]
  },
  {
   "cell_type": "markdown",
   "id": "0bed72fa",
   "metadata": {},
   "source": [
    "# Visualisation"
   ]
  },
  {
   "cell_type": "code",
   "execution_count": 121,
   "id": "7eecdee9",
   "metadata": {},
   "outputs": [
    {
     "name": "stderr",
     "output_type": "stream",
     "text": [
      "*c* argument looks like a single numeric RGB or RGBA sequence, which should be avoided as value-mapping will have precedence in case its length matches with *x* & *y*.  Please use the *color* keyword-argument or provide a 2D array with a single row if you intend to specify the same RGB or RGBA value for all points.\n",
      "*c* argument looks like a single numeric RGB or RGBA sequence, which should be avoided as value-mapping will have precedence in case its length matches with *x* & *y*.  Please use the *color* keyword-argument or provide a 2D array with a single row if you intend to specify the same RGB or RGBA value for all points.\n"
     ]
    },
    {
     "data": {
      "image/png": "[encoded data removed]",
      "text/plain": [
       "<Figure size 432x288 with 1 Axes>"
      ]
     },
     "metadata": {
      "needs_background": "light"
     },
     "output_type": "display_data"
    }
   ],
   "source": [
    "# Visualising the Test set results\n",
    "X_set, y_set = X_test, y_test\n",
    "X_set, y_set = X_test, y_test\n",
    "X1, X2 = np.meshgrid(np.arange(start = X_set['Количество чеков'].min() - 1, stop = X_set['Количество чеков'].max() + 1),\n",
    "                     np.arange(start = X_set['Количество касс'].min() - 1, stop = X_set['Количество касс'].max() + 1))\n",
    "plt.contourf(X1, X2, rf.predict(np.array([X1.ravel(), X2.ravel()]).T).reshape(X1.shape),\n",
    "             alpha = 0.75, cmap = ListedColormap(('red', 'green')))\n",
    "plt.xlim(X1.min(), X1.max())\n",
    "plt.ylim(X2.min(), X2.max())\n",
    "for i, j in enumerate(np.unique(y_set)):\n",
    "    plt.scatter(X_set['Количество чеков'][y_set == j], X_set['Количество касс'][y_set == j],\n",
    "                c = ListedColormap(('red', 'green'))(i), label = j)\n",
    "plt.title('Random Forest (Test set)')\n",
    "plt.xlabel('Количество чеков')\n",
    "plt.ylabel('Количество касс')\n",
    "plt.legend()\n",
    "plt.show()"
   ]
  },
  {
   "cell_type": "markdown",
   "id": "faec5b8d",
   "metadata": {},
   "source": [
    "# CatBoost"
   ]
  },
  {
   "cell_type": "markdown",
   "id": "0fcc0329",
   "metadata": {},
   "source": [
    "Paremeters"
   ]
  },
  {
   "cell_type": "code",
   "execution_count": 114,
   "id": "d551e6c8",
   "metadata": {},
   "outputs": [
    {
     "data": {
      "image/png": "[encoded data removed]",
      "text/plain": [
       "<Figure size 576x288 with 1 Axes>"
      ]
     },
     "metadata": {
      "needs_background": "light"
     },
     "output_type": "display_data"
    }
   ],
   "source": [
    "def catboost_best_iterations(X_train, X_test, y_train, y_test, n):\n",
    "    mse_train = []\n",
    "    mse_test = []\n",
    "    for i in n:\n",
    "        catboost = CatBoostClassifier(iterations=i,random_state=10).fit(X_train, y_train,eval_set=(X_test, y_test),logging_level='Silent')\n",
    "        mse_train.append(mean_squared_error(y_train, catboost.predict(X_train)))\n",
    "        mse_test.append(mean_squared_error(y_test, catboost.predict(X_test)))\n",
    "    fig, ax = plt.subplots(figsize=(8, 4))\n",
    "    ax.plot(n, mse_train, alpha=0.5, color='blue', label='train')\n",
    "    ax.plot(n, mse_test, alpha=0.5, color='red', label='test')\n",
    "    ax.set_ylabel('\"MSE')\n",
    "    ax.set_xlabel('Iterations')\n",
    "    ax.legend(framealpha=1, frameon=True);\n",
    "    \n",
    "from catboost import CatBoostClassifier\n",
    "catboost_best_iterations(X_train, X_test, y_train, y_test, list(range(1,13)))"
   ]
  },
  {
   "cell_type": "code",
   "execution_count": 115,
   "id": "77d8b630",
   "metadata": {},
   "outputs": [
    {
     "data": {
      "image/png": "[encoded data removed]",
      "text/plain": [
       "<Figure size 576x288 with 1 Axes>"
      ]
     },
     "metadata": {
      "needs_background": "light"
     },
     "output_type": "display_data"
    }
   ],
   "source": [
    "def catboost_max_depth(X_train, X_test, y_train, y_test, n):\n",
    "    mse_train = []\n",
    "    mse_test = []\n",
    "    for i in n:\n",
    "        catboost = CatBoostClassifier(iterations=12,max_depth=i,random_state=10).fit(X_train,y_train,eval_set=(X_test, y_test),logging_level='Silent')\n",
    "        mse_train.append(mean_squared_error(y_train, catboost.predict(X_train)))\n",
    "        mse_test.append(mean_squared_error(y_test, catboost.predict(X_test)))\n",
    "    fig, ax = plt.subplots(figsize=(8, 4))\n",
    "    ax.plot(n, mse_train, alpha=0.5, color='blue', label='train')\n",
    "    ax.plot(n, mse_test, alpha=0.5, color='red', label='test')\n",
    "    ax.set_ylabel(\"MSE\")\n",
    "    ax.set_xlabel(\"max_depth\")\n",
    "    ax.legend(framealpha=1, frameon=True);\n",
    "\n",
    "catboost_max_depth(X_train, X_test, y_train, y_test, list(range(1,15)))"
   ]
  },
  {
   "cell_type": "markdown",
   "id": "31d8e439",
   "metadata": {},
   "source": [
    "# Model"
   ]
  },
  {
   "cell_type": "code",
   "execution_count": 116,
   "id": "099bf6e6",
   "metadata": {},
   "outputs": [],
   "source": [
    "# Fitting CatBoost to the Training set\n",
    "cb = CatBoostClassifier(iterations=12,max_depth=6,random_state=10).fit(X_train, y_train,eval_set=(X_test, y_test),logging_level='Silent')"
   ]
  },
  {
   "cell_type": "markdown",
   "id": "dfd74fcc",
   "metadata": {},
   "source": [
    "# Results"
   ]
  },
  {
   "cell_type": "code",
   "execution_count": 117,
   "id": "af242f1d",
   "metadata": {},
   "outputs": [
    {
     "data": {
      "text/plain": [
       "0.857"
      ]
     },
     "execution_count": 117,
     "metadata": {},
     "output_type": "execute_result"
    }
   ],
   "source": [
    "# Predicting the Test set results\n",
    "cb_y_pred = cb.predict(X_test)\n",
    "cb.score(X_test,y_test).round(3)"
   ]
  },
  {
   "cell_type": "markdown",
   "id": "27742cca",
   "metadata": {},
   "source": [
    "Можем сделать вывод что в 86% модель соверашет правильных поступков"
   ]
  },
  {
   "cell_type": "code",
   "execution_count": 118,
   "id": "4009bbbd",
   "metadata": {},
   "outputs": [
    {
     "name": "stdout",
     "output_type": "stream",
     "text": [
      "[[9 2]\n",
      " [0 3]]\n"
     ]
    }
   ],
   "source": [
    "# Making the Confusion Matrix\n",
    "cm = confusion_matrix(y_test, cb_y_pred)\n",
    "print(cm)"
   ]
  },
  {
   "cell_type": "markdown",
   "id": "a6386ba2",
   "metadata": {},
   "source": [
    "Как видно, все 12 примеров распознано верно, 2 с ошибкой"
   ]
  },
  {
   "cell_type": "code",
   "execution_count": 119,
   "id": "100138da",
   "metadata": {},
   "outputs": [
    {
     "data": {
      "text/plain": [
       "Text(0.5, 1.0, 'Boosting. Feature Importance')"
      ]
     },
     "execution_count": 119,
     "metadata": {},
     "output_type": "execute_result"
    },
    {
     "data": {
      "image/png": "[encoded data removed]",
      "text/plain": [
       "<Figure size 720x504 with 1 Axes>"
      ]
     },
     "metadata": {
      "needs_background": "light"
     },
     "output_type": "display_data"
    }
   ],
   "source": [
    "# Features importances\n",
    "cb_imp = pd.DataFrame({'imp': cb.get_feature_importance(), 'col': col})\n",
    "cb_imp = cb_imp.sort_values(['imp', 'col'], ascending=[True, False]).iloc[-25:]\n",
    "cb_imp.plot(kind='barh', x='col', y='imp', figsize=(10, 7), legend=None)\n",
    "plt.title('Boosting. Feature Importance')"
   ]
  },
  {
   "cell_type": "code",
   "execution_count": 121,
   "id": "ce063ebd",
   "metadata": {},
   "outputs": [
    {
     "name": "stderr",
     "output_type": "stream",
     "text": [
      "*c* argument looks like a single numeric RGB or RGBA sequence, which should be avoided as value-mapping will have precedence in case its length matches with *x* & *y*.  Please use the *color* keyword-argument or provide a 2D array with a single row if you intend to specify the same RGB or RGBA value for all points.\n",
      "*c* argument looks like a single numeric RGB or RGBA sequence, which should be avoided as value-mapping will have precedence in case its length matches with *x* & *y*.  Please use the *color* keyword-argument or provide a 2D array with a single row if you intend to specify the same RGB or RGBA value for all points.\n"
     ]
    },
    {
     "data": {
      "image/png": "[encoded data removed]",
      "text/plain": [
       "<Figure size 432x288 with 1 Axes>"
      ]
     },
     "metadata": {
      "needs_background": "light"
     },
     "output_type": "display_data"
    }
   ],
   "source": [
    "# Visualising the Test set results\n",
    "X_set, y_set = X_test, y_test\n",
    "X_set, y_set = X_test, y_test\n",
    "X1, X2 = np.meshgrid(np.arange(start = X_set['Количество чеков'].min() - 1, stop = X_set['Количество чеков'].max() + 1),\n",
    "                     np.arange(start = X_set['Количество касс'].min() - 1, stop = X_set['Количество касс'].max() + 1))\n",
    "plt.contourf(X1, X2, cb.predict(np.array([X1.ravel(), X2.ravel()]).T).reshape(X1.shape),\n",
    "             alpha = 0.75, cmap = ListedColormap(('red', 'green')))\n",
    "plt.xlim(X1.min(), X1.max())\n",
    "plt.ylim(X2.min(), X2.max())\n",
    "for i, j in enumerate(np.unique(y_set)):\n",
    "    plt.scatter(X_set['Количество чеков'][y_set == j], X_set['Количество касс'][y_set == j],\n",
    "                c = ListedColormap(('red', 'green'))(i), label = j)\n",
    "plt.title('Random Forest (Test set)')\n",
    "plt.xlabel('Количество чеков')\n",
    "plt.ylabel('Количество касс')\n",
    "plt.legend()\n",
    "plt.show()"
   ]
  },
  {
   "cell_type": "markdown",
   "id": "f8534165",
   "metadata": {},
   "source": [
    "# Hierarchical Clustering"
   ]
  },
  {
   "cell_type": "code",
   "execution_count": 122,
   "id": "d496823a",
   "metadata": {},
   "outputs": [],
   "source": [
    "from sklearn.preprocessing import MinMaxScaler\n",
    "sc = MinMaxScaler().fit(df)\n",
    "df_arr = sc.transform(df)"
   ]
  },
  {
   "cell_type": "code",
   "execution_count": 123,
   "id": "950a72a6",
   "metadata": {},
   "outputs": [
    {
     "data": {
      "text/html": [
       "<div>\n",
       "<style scoped>\n",
       "    .dataframe tbody tr th:only-of-type {\n",
       "        vertical-align: middle;\n",
       "    }\n",
       "\n",
       "    .dataframe tbody tr th {\n",
       "        vertical-align: top;\n",
       "    }\n",
       "\n",
       "    .dataframe thead th {\n",
       "        text-align: right;\n",
       "    }\n",
       "</style>\n",
       "<table border=\"1\" class=\"dataframe\">\n",
       "  <thead>\n",
       "    <tr style=\"text-align: right;\">\n",
       "      <th></th>\n",
       "      <th>Успех</th>\n",
       "      <th>Торговельна площа, кв. м.</th>\n",
       "      <th>Этаж</th>\n",
       "      <th>Количество касс</th>\n",
       "      <th>Тип</th>\n",
       "      <th>Рейтинг в гуглі</th>\n",
       "      <th>Количество чеков</th>\n",
       "      <th>Средний чек</th>\n",
       "      <th>Населення</th>\n",
       "      <th>Середній дохід населення</th>\n",
       "      <th>Зупинка ГТ додому</th>\n",
       "      <th>Пішохідний перехід</th>\n",
       "      <th>Спеціалізований хліб</th>\n",
       "      <th>Спеціалізоване м'ясо</th>\n",
       "      <th>Спеціалізований сир</th>\n",
       "    </tr>\n",
       "  </thead>\n",
       "  <tbody>\n",
       "    <tr>\n",
       "      <th>0</th>\n",
       "      <td>0</td>\n",
       "      <td>9.00</td>\n",
       "      <td>1</td>\n",
       "      <td>1</td>\n",
       "      <td>2</td>\n",
       "      <td>3.0</td>\n",
       "      <td>659.0</td>\n",
       "      <td>76.85</td>\n",
       "      <td>108.0</td>\n",
       "      <td>14910.0</td>\n",
       "      <td>0</td>\n",
       "      <td>0</td>\n",
       "      <td>0</td>\n",
       "      <td>0</td>\n",
       "      <td>0</td>\n",
       "    </tr>\n",
       "    <tr>\n",
       "      <th>1</th>\n",
       "      <td>0</td>\n",
       "      <td>22.00</td>\n",
       "      <td>1</td>\n",
       "      <td>1</td>\n",
       "      <td>2</td>\n",
       "      <td>4.1</td>\n",
       "      <td>1518.0</td>\n",
       "      <td>84.86</td>\n",
       "      <td>750.0</td>\n",
       "      <td>9030.0</td>\n",
       "      <td>0</td>\n",
       "      <td>0</td>\n",
       "      <td>0</td>\n",
       "      <td>0</td>\n",
       "      <td>0</td>\n",
       "    </tr>\n",
       "    <tr>\n",
       "      <th>2</th>\n",
       "      <td>0</td>\n",
       "      <td>13.00</td>\n",
       "      <td>1</td>\n",
       "      <td>1</td>\n",
       "      <td>2</td>\n",
       "      <td>3.0</td>\n",
       "      <td>476.0</td>\n",
       "      <td>112.02</td>\n",
       "      <td>0.0</td>\n",
       "      <td>9030.0</td>\n",
       "      <td>0</td>\n",
       "      <td>0</td>\n",
       "      <td>0</td>\n",
       "      <td>0</td>\n",
       "      <td>0</td>\n",
       "    </tr>\n",
       "    <tr>\n",
       "      <th>3</th>\n",
       "      <td>0</td>\n",
       "      <td>18.00</td>\n",
       "      <td>1</td>\n",
       "      <td>1</td>\n",
       "      <td>3</td>\n",
       "      <td>3.0</td>\n",
       "      <td>1310.0</td>\n",
       "      <td>119.80</td>\n",
       "      <td>0.0</td>\n",
       "      <td>13930.0</td>\n",
       "      <td>0</td>\n",
       "      <td>0</td>\n",
       "      <td>0</td>\n",
       "      <td>0</td>\n",
       "      <td>0</td>\n",
       "    </tr>\n",
       "    <tr>\n",
       "      <th>4</th>\n",
       "      <td>0</td>\n",
       "      <td>25.00</td>\n",
       "      <td>1</td>\n",
       "      <td>1</td>\n",
       "      <td>2</td>\n",
       "      <td>4.0</td>\n",
       "      <td>2029.0</td>\n",
       "      <td>94.88</td>\n",
       "      <td>0.0</td>\n",
       "      <td>14560.0</td>\n",
       "      <td>0</td>\n",
       "      <td>0</td>\n",
       "      <td>0</td>\n",
       "      <td>0</td>\n",
       "      <td>0</td>\n",
       "    </tr>\n",
       "    <tr>\n",
       "      <th>...</th>\n",
       "      <td>...</td>\n",
       "      <td>...</td>\n",
       "      <td>...</td>\n",
       "      <td>...</td>\n",
       "      <td>...</td>\n",
       "      <td>...</td>\n",
       "      <td>...</td>\n",
       "      <td>...</td>\n",
       "      <td>...</td>\n",
       "      <td>...</td>\n",
       "      <td>...</td>\n",
       "      <td>...</td>\n",
       "      <td>...</td>\n",
       "      <td>...</td>\n",
       "      <td>...</td>\n",
       "    </tr>\n",
       "    <tr>\n",
       "      <th>64</th>\n",
       "      <td>1</td>\n",
       "      <td>40.78</td>\n",
       "      <td>1</td>\n",
       "      <td>2</td>\n",
       "      <td>4</td>\n",
       "      <td>4.0</td>\n",
       "      <td>6884.0</td>\n",
       "      <td>107.37</td>\n",
       "      <td>963.0</td>\n",
       "      <td>9800.0</td>\n",
       "      <td>1</td>\n",
       "      <td>0</td>\n",
       "      <td>0</td>\n",
       "      <td>1</td>\n",
       "      <td>1</td>\n",
       "    </tr>\n",
       "    <tr>\n",
       "      <th>65</th>\n",
       "      <td>1</td>\n",
       "      <td>21.50</td>\n",
       "      <td>1</td>\n",
       "      <td>1</td>\n",
       "      <td>4</td>\n",
       "      <td>2.3</td>\n",
       "      <td>4721.0</td>\n",
       "      <td>89.13</td>\n",
       "      <td>0.0</td>\n",
       "      <td>12600.0</td>\n",
       "      <td>0</td>\n",
       "      <td>0</td>\n",
       "      <td>0</td>\n",
       "      <td>0</td>\n",
       "      <td>0</td>\n",
       "    </tr>\n",
       "    <tr>\n",
       "      <th>66</th>\n",
       "      <td>0</td>\n",
       "      <td>115.23</td>\n",
       "      <td>1</td>\n",
       "      <td>1</td>\n",
       "      <td>3</td>\n",
       "      <td>3.0</td>\n",
       "      <td>3286.0</td>\n",
       "      <td>105.62</td>\n",
       "      <td>315.0</td>\n",
       "      <td>10570.0</td>\n",
       "      <td>0</td>\n",
       "      <td>0</td>\n",
       "      <td>0</td>\n",
       "      <td>0</td>\n",
       "      <td>0</td>\n",
       "    </tr>\n",
       "    <tr>\n",
       "      <th>67</th>\n",
       "      <td>0</td>\n",
       "      <td>34.80</td>\n",
       "      <td>1</td>\n",
       "      <td>2</td>\n",
       "      <td>2</td>\n",
       "      <td>4.3</td>\n",
       "      <td>3963.0</td>\n",
       "      <td>168.07</td>\n",
       "      <td>0.0</td>\n",
       "      <td>12460.0</td>\n",
       "      <td>0</td>\n",
       "      <td>0</td>\n",
       "      <td>0</td>\n",
       "      <td>0</td>\n",
       "      <td>0</td>\n",
       "    </tr>\n",
       "    <tr>\n",
       "      <th>68</th>\n",
       "      <td>1</td>\n",
       "      <td>22.00</td>\n",
       "      <td>1</td>\n",
       "      <td>1</td>\n",
       "      <td>4</td>\n",
       "      <td>4.9</td>\n",
       "      <td>4200.0</td>\n",
       "      <td>101.73</td>\n",
       "      <td>678.0</td>\n",
       "      <td>10430.0</td>\n",
       "      <td>0</td>\n",
       "      <td>0</td>\n",
       "      <td>1</td>\n",
       "      <td>0</td>\n",
       "      <td>0</td>\n",
       "    </tr>\n",
       "  </tbody>\n",
       "</table>\n",
       "<p>69 rows × 15 columns</p>\n",
       "</div>"
      ],
      "text/plain": [
       "    Успех  Торговельна площа, кв. м.  Этаж  Количество касс  Тип  \\\n",
       "0       0                       9.00     1                1    2   \n",
       "1       0                      22.00     1                1    2   \n",
       "2       0                      13.00     1                1    2   \n",
       "3       0                      18.00     1                1    3   \n",
       "4       0                      25.00     1                1    2   \n",
       "..    ...                        ...   ...              ...  ...   \n",
       "64      1                      40.78     1                2    4   \n",
       "65      1                      21.50     1                1    4   \n",
       "66      0                     115.23     1                1    3   \n",
       "67      0                      34.80     1                2    2   \n",
       "68      1                      22.00     1                1    4   \n",
       "\n",
       "    Рейтинг в гуглі  Количество чеков  Средний чек  Населення  \\\n",
       "0               3.0             659.0        76.85      108.0   \n",
       "1               4.1            1518.0        84.86      750.0   \n",
       "2               3.0             476.0       112.02        0.0   \n",
       "3               3.0            1310.0       119.80        0.0   \n",
       "4               4.0            2029.0        94.88        0.0   \n",
       "..              ...               ...          ...        ...   \n",
       "64              4.0            6884.0       107.37      963.0   \n",
       "65              2.3            4721.0        89.13        0.0   \n",
       "66              3.0            3286.0       105.62      315.0   \n",
       "67              4.3            3963.0       168.07        0.0   \n",
       "68              4.9            4200.0       101.73      678.0   \n",
       "\n",
       "    Середній дохід населення  Зупинка ГТ додому  Пішохідний перехід  \\\n",
       "0                    14910.0                  0                   0   \n",
       "1                     9030.0                  0                   0   \n",
       "2                     9030.0                  0                   0   \n",
       "3                    13930.0                  0                   0   \n",
       "4                    14560.0                  0                   0   \n",
       "..                       ...                ...                 ...   \n",
       "64                    9800.0                  1                   0   \n",
       "65                   12600.0                  0                   0   \n",
       "66                   10570.0                  0                   0   \n",
       "67                   12460.0                  0                   0   \n",
       "68                   10430.0                  0                   0   \n",
       "\n",
       "    Спеціалізований хліб  Спеціалізоване м'ясо  Спеціалізований сир  \n",
       "0                      0                     0                    0  \n",
       "1                      0                     0                    0  \n",
       "2                      0                     0                    0  \n",
       "3                      0                     0                    0  \n",
       "4                      0                     0                    0  \n",
       "..                   ...                   ...                  ...  \n",
       "64                     0                     1                    1  \n",
       "65                     0                     0                    0  \n",
       "66                     0                     0                    0  \n",
       "67                     0                     0                    0  \n",
       "68                     1                     0                    0  \n",
       "\n",
       "[69 rows x 15 columns]"
      ]
     },
     "execution_count": 123,
     "metadata": {},
     "output_type": "execute_result"
    }
   ],
   "source": [
    "df"
   ]
  },
  {
   "cell_type": "code",
   "execution_count": 124,
   "id": "2ce932f2",
   "metadata": {},
   "outputs": [],
   "source": [
    "df = pd.DataFrame(df_arr, columns=df.columns).round()"
   ]
  },
  {
   "cell_type": "code",
   "execution_count": 125,
   "id": "284751db",
   "metadata": {},
   "outputs": [
    {
     "data": {
      "image/png": "[encoded data removed]",
      "text/plain": [
       "<Figure size 864x648 with 2 Axes>"
      ]
     },
     "metadata": {
      "needs_background": "light"
     },
     "output_type": "display_data"
    }
   ],
   "source": [
    "corrmat = df.corr()\n",
    "f, ax = plt.subplots(figsize=(12, 9))\n",
    "sns.heatmap(corrmat, annot=True)\n",
    "plt.show()"
   ]
  },
  {
   "cell_type": "code",
   "execution_count": 126,
   "id": "cf85c807",
   "metadata": {},
   "outputs": [
    {
     "data": {
      "image/png": "[encoded data removed]",
      "text/plain": [
       "<Figure size 432x288 with 1 Axes>"
      ]
     },
     "metadata": {
      "needs_background": "light"
     },
     "output_type": "display_data"
    }
   ],
   "source": [
    "# Using the dendrogram to find the optimal number of clusters\n",
    "import scipy.cluster.hierarchy as sch\n",
    "dendrogram = sch.dendrogram(sch.linkage(df, method = 'ward'))\n",
    "plt.title('Dendrogram')\n",
    "plt.xlabel('Customers')\n",
    "plt.ylabel('Euclidean distances')\n",
    "plt.show()"
   ]
  },
  {
   "cell_type": "code",
   "execution_count": 127,
   "id": "6f485d82",
   "metadata": {},
   "outputs": [],
   "source": [
    "from sklearn.cluster import AgglomerativeClustering\n",
    "hc = AgglomerativeClustering(n_clusters = 4, affinity = 'euclidean', linkage = 'ward').fit_predict(df)"
   ]
  },
  {
   "cell_type": "code",
   "execution_count": 128,
   "id": "e6d4c8d8",
   "metadata": {},
   "outputs": [
    {
     "data": {
      "text/plain": [
       "array([0, 0, 0, 0, 0, 0, 2, 3, 0, 1, 1, 2, 0, 2, 3, 2, 0, 1, 0, 1, 1, 0,\n",
       "       2, 2, 0, 0, 0, 0, 2, 2, 0, 2, 2, 1, 0, 0, 2, 0, 0, 1, 1, 2, 0, 2,\n",
       "       0, 0, 0, 0, 0, 2, 2, 1, 3, 2, 0, 0, 0, 0, 0, 2, 0, 2, 3, 0, 3, 2,\n",
       "       0, 0, 2], dtype=int64)"
      ]
     },
     "execution_count": 128,
     "metadata": {},
     "output_type": "execute_result"
    }
   ],
   "source": [
    "hc"
   ]
  },
  {
   "cell_type": "markdown",
   "id": "46a70209",
   "metadata": {},
   "source": [
    "# Feature Reduction"
   ]
  },
  {
   "cell_type": "code",
   "execution_count": 129,
   "id": "8463f162",
   "metadata": {},
   "outputs": [],
   "source": [
    "X = df.iloc[:, [0, 5, 6]]"
   ]
  },
  {
   "cell_type": "code",
   "execution_count": 130,
   "id": "034d5e4a",
   "metadata": {},
   "outputs": [
    {
     "data": {
      "image/png": "[encoded data removed]",
      "text/plain": [
       "<Figure size 432x288 with 1 Axes>"
      ]
     },
     "metadata": {
      "needs_background": "light"
     },
     "output_type": "display_data"
    }
   ],
   "source": [
    "# Using the dendrogram to find the optimal number of clusters\n",
    "import scipy.cluster.hierarchy as sch\n",
    "dendrogram = sch.dendrogram(sch.linkage(X, method = 'ward'))\n",
    "plt.title('Dendrogram')\n",
    "plt.xlabel('Customers')\n",
    "plt.ylabel('Euclidean distances')\n",
    "plt.show()"
   ]
  },
  {
   "cell_type": "markdown",
   "id": "5840c9a7",
   "metadata": {},
   "source": [
    "Исходя из графика можно сказть что подходящее количество классов это 2"
   ]
  },
  {
   "cell_type": "code",
   "execution_count": 131,
   "id": "800ecca6",
   "metadata": {},
   "outputs": [],
   "source": [
    "# Fitting Hierarchical Clustering to the dataset\n",
    "from sklearn.cluster import AgglomerativeClustering\n",
    "hc = AgglomerativeClustering(n_clusters = 2, affinity = 'euclidean', linkage = 'ward').fit_predict(df)"
   ]
  },
  {
   "cell_type": "code",
   "execution_count": 132,
   "id": "95f3d133",
   "metadata": {},
   "outputs": [],
   "source": [
    "# Export hc clusters\n",
    "import pickle\n",
    "obj = {'hc': hc}\n",
    "output = open('clust.pkl', 'wb')\n",
    "pickle.dump(obj, output, 2)\n",
    "output.close()"
   ]
  },
  {
   "cell_type": "markdown",
   "id": "8e1090f9",
   "metadata": {},
   "source": [
    "# K-Means Clustering"
   ]
  },
  {
   "cell_type": "code",
   "execution_count": 133,
   "id": "4820d4ff",
   "metadata": {},
   "outputs": [
    {
     "data": {
      "image/png": "[encoded data removed]",
      "text/plain": [
       "<Figure size 432x288 with 1 Axes>"
      ]
     },
     "metadata": {
      "needs_background": "light"
     },
     "output_type": "display_data"
    }
   ],
   "source": [
    "# Using the elbow method to find the optimal number of clusters\n",
    "from sklearn.cluster import KMeans\n",
    "wcss = []\n",
    "for i in range(1, 11):\n",
    "    kmeans = KMeans(n_clusters = i, init = 'k-means++', random_state = 0)\n",
    "    kmeans.fit(df)\n",
    "    wcss.append(kmeans.inertia_)\n",
    "\n",
    "plt.plot(range(1, 11), wcss)\n",
    "plt.title('The Elbow Method')\n",
    "plt.xlabel('Number of clusters')\n",
    "plt.ylabel('WCSS')\n",
    "plt.show()"
   ]
  },
  {
   "cell_type": "code",
   "execution_count": 134,
   "id": "05784bf2",
   "metadata": {},
   "outputs": [
    {
     "data": {
      "image/png": "[encoded data removed]",
      "text/plain": [
       "<Figure size 432x288 with 1 Axes>"
      ]
     },
     "metadata": {
      "needs_background": "light"
     },
     "output_type": "display_data"
    },
    {
     "name": "stdout",
     "output_type": "stream",
     "text": [
      "2:0.21977073548310314\n",
      "3:0.16414148683240753\n",
      "4:0.18261361365380396\n",
      "5:0.17674290136636345\n"
     ]
    }
   ],
   "source": [
    "# Using the silhouette method to find the optimal number of clusters\n",
    "from sklearn.metrics import silhouette_score\n",
    "\n",
    "sil = []\n",
    "\n",
    "for k in range(2, 6):\n",
    "  kmeans = KMeans(n_clusters = k).fit(df)  \n",
    "  preds = kmeans.fit_predict(df)\n",
    "  sil.append(silhouette_score(df, preds, metric = 'euclidean'))\n",
    "\n",
    "\n",
    "plt.plot(range(2, 6), sil)\n",
    "plt.title('Silhouette Method')\n",
    "plt.xlabel('Number of clusters')\n",
    "plt.ylabel('Sil')\n",
    "plt.show()\n",
    "\n",
    "for i in range(len(sil)):\n",
    " print(str(i+2) +\":\"+ str(sil[i]))"
   ]
  },
  {
   "cell_type": "markdown",
   "id": "a88ece06",
   "metadata": {},
   "source": [
    "# Model"
   ]
  },
  {
   "cell_type": "code",
   "execution_count": 135,
   "id": "d028b544",
   "metadata": {},
   "outputs": [
    {
     "data": {
      "text/html": [
       "<div>\n",
       "<style scoped>\n",
       "    .dataframe tbody tr th:only-of-type {\n",
       "        vertical-align: middle;\n",
       "    }\n",
       "\n",
       "    .dataframe tbody tr th {\n",
       "        vertical-align: top;\n",
       "    }\n",
       "\n",
       "    .dataframe thead th {\n",
       "        text-align: right;\n",
       "    }\n",
       "</style>\n",
       "<table border=\"1\" class=\"dataframe\">\n",
       "  <thead>\n",
       "    <tr style=\"text-align: right;\">\n",
       "      <th></th>\n",
       "      <th>Успех</th>\n",
       "      <th>Торговельна площа, кв. м.</th>\n",
       "      <th>Этаж</th>\n",
       "      <th>Количество касс</th>\n",
       "      <th>Тип</th>\n",
       "      <th>Рейтинг в гуглі</th>\n",
       "      <th>Количество чеков</th>\n",
       "      <th>Средний чек</th>\n",
       "      <th>Населення</th>\n",
       "      <th>Середній дохід населення</th>\n",
       "      <th>Зупинка ГТ додому</th>\n",
       "      <th>Пішохідний перехід</th>\n",
       "      <th>Спеціалізований хліб</th>\n",
       "      <th>Спеціалізоване м'ясо</th>\n",
       "      <th>Спеціалізований сир</th>\n",
       "    </tr>\n",
       "  </thead>\n",
       "  <tbody>\n",
       "    <tr>\n",
       "      <th>0</th>\n",
       "      <td>0.83</td>\n",
       "      <td>0.17</td>\n",
       "      <td>0.0</td>\n",
       "      <td>0.00</td>\n",
       "      <td>1.00</td>\n",
       "      <td>1.00</td>\n",
       "      <td>0.83</td>\n",
       "      <td>0.50</td>\n",
       "      <td>0.50</td>\n",
       "      <td>0.83</td>\n",
       "      <td>0.83</td>\n",
       "      <td>0.50</td>\n",
       "      <td>0.67</td>\n",
       "      <td>1.00</td>\n",
       "      <td>1.00</td>\n",
       "    </tr>\n",
       "    <tr>\n",
       "      <th>1</th>\n",
       "      <td>-0.00</td>\n",
       "      <td>0.05</td>\n",
       "      <td>0.0</td>\n",
       "      <td>0.00</td>\n",
       "      <td>0.51</td>\n",
       "      <td>0.63</td>\n",
       "      <td>0.02</td>\n",
       "      <td>0.07</td>\n",
       "      <td>0.23</td>\n",
       "      <td>0.98</td>\n",
       "      <td>0.21</td>\n",
       "      <td>0.07</td>\n",
       "      <td>0.16</td>\n",
       "      <td>0.07</td>\n",
       "      <td>0.12</td>\n",
       "    </tr>\n",
       "    <tr>\n",
       "      <th>2</th>\n",
       "      <td>1.00</td>\n",
       "      <td>0.15</td>\n",
       "      <td>0.0</td>\n",
       "      <td>0.05</td>\n",
       "      <td>1.00</td>\n",
       "      <td>0.75</td>\n",
       "      <td>0.50</td>\n",
       "      <td>0.10</td>\n",
       "      <td>0.40</td>\n",
       "      <td>1.00</td>\n",
       "      <td>0.20</td>\n",
       "      <td>0.35</td>\n",
       "      <td>0.10</td>\n",
       "      <td>0.20</td>\n",
       "      <td>0.00</td>\n",
       "    </tr>\n",
       "  </tbody>\n",
       "</table>\n",
       "</div>"
      ],
      "text/plain": [
       "   Успех  Торговельна площа, кв. м.  Этаж  Количество касс   Тип  \\\n",
       "0   0.83                       0.17   0.0             0.00  1.00   \n",
       "1  -0.00                       0.05   0.0             0.00  0.51   \n",
       "2   1.00                       0.15   0.0             0.05  1.00   \n",
       "\n",
       "   Рейтинг в гуглі  Количество чеков  Средний чек  Населення  \\\n",
       "0             1.00              0.83         0.50       0.50   \n",
       "1             0.63              0.02         0.07       0.23   \n",
       "2             0.75              0.50         0.10       0.40   \n",
       "\n",
       "   Середній дохід населення  Зупинка ГТ додому  Пішохідний перехід  \\\n",
       "0                      0.83               0.83                0.50   \n",
       "1                      0.98               0.21                0.07   \n",
       "2                      1.00               0.20                0.35   \n",
       "\n",
       "   Спеціалізований хліб  Спеціалізоване м'ясо  Спеціалізований сир  \n",
       "0                  0.67                  1.00                 1.00  \n",
       "1                  0.16                  0.07                 0.12  \n",
       "2                  0.10                  0.20                 0.00  "
      ]
     },
     "execution_count": 135,
     "metadata": {},
     "output_type": "execute_result"
    }
   ],
   "source": [
    "# Fitting K-Means to the dataset\n",
    "km = KMeans(n_clusters = 3, init = 'k-means++', random_state = 0).fit_predict(df)\n",
    "kms = KMeans(n_clusters = 3, random_state = 0).fit(df)\n",
    "pd.DataFrame(kms.cluster_centers_, columns = df.columns).round(2)"
   ]
  },
  {
   "cell_type": "markdown",
   "id": "0bb159a9",
   "metadata": {},
   "source": [
    "# Feature Reduction"
   ]
  },
  {
   "cell_type": "code",
   "execution_count": 136,
   "id": "d6ebda1c",
   "metadata": {},
   "outputs": [],
   "source": [
    "X = df.iloc[:, [0, 5, 6]]"
   ]
  },
  {
   "cell_type": "code",
   "execution_count": 150,
   "id": "92bd3528",
   "metadata": {},
   "outputs": [
    {
     "data": {
      "text/html": [
       "<div>\n",
       "<style scoped>\n",
       "    .dataframe tbody tr th:only-of-type {\n",
       "        vertical-align: middle;\n",
       "    }\n",
       "\n",
       "    .dataframe tbody tr th {\n",
       "        vertical-align: top;\n",
       "    }\n",
       "\n",
       "    .dataframe thead th {\n",
       "        text-align: right;\n",
       "    }\n",
       "</style>\n",
       "<table border=\"1\" class=\"dataframe\">\n",
       "  <thead>\n",
       "    <tr style=\"text-align: right;\">\n",
       "      <th></th>\n",
       "      <th>Успех</th>\n",
       "      <th>Количество чеков</th>\n",
       "      <th>Количество касс</th>\n",
       "    </tr>\n",
       "  </thead>\n",
       "  <tbody>\n",
       "    <tr>\n",
       "      <th>0</th>\n",
       "      <td>1.0</td>\n",
       "      <td>1.0</td>\n",
       "      <td>1.0</td>\n",
       "    </tr>\n",
       "    <tr>\n",
       "      <th>1</th>\n",
       "      <td>-0.0</td>\n",
       "      <td>1.0</td>\n",
       "      <td>0.0</td>\n",
       "    </tr>\n",
       "  </tbody>\n",
       "</table>\n",
       "</div>"
      ],
      "text/plain": [
       "   Успех  Количество чеков  Количество касс\n",
       "0    1.0               1.0              1.0\n",
       "1   -0.0               1.0              0.0"
      ]
     },
     "execution_count": 150,
     "metadata": {},
     "output_type": "execute_result"
    }
   ],
   "source": [
    "# Fitting K-Means to the dataset\n",
    "km = KMeans(n_clusters = 2, init = 'k-means++', random_state = 0).fit_predict(X)\n",
    "kms = KMeans(n_clusters = 2, random_state = 0).fit(X)\n",
    "pd.DataFrame(kms.cluster_centers_, columns = ['Успех','Количество чеков','Количество касс']).round()"
   ]
  },
  {
   "cell_type": "markdown",
   "id": "f39efb20",
   "metadata": {},
   "source": [
    "# Results matching"
   ]
  },
  {
   "cell_type": "code",
   "execution_count": 151,
   "id": "2047f613",
   "metadata": {},
   "outputs": [],
   "source": [
    "# Importing hc clusters\n",
    "import pickle\n",
    "input = open('clust.pkl', 'rb')\n",
    "obj = pickle.load(input)\n",
    "input.close()\n",
    "hc = obj[\"hc\"]"
   ]
  },
  {
   "cell_type": "code",
   "execution_count": 152,
   "id": "e5bcb81f",
   "metadata": {},
   "outputs": [
    {
     "data": {
      "text/plain": [
       "0.4973577637297511"
      ]
     },
     "execution_count": 152,
     "metadata": {},
     "output_type": "execute_result"
    }
   ],
   "source": [
    "# Comparing Clustering Algorithms\n",
    "from sklearn.metrics.cluster import adjusted_rand_score\n",
    "adjusted_rand_score(hc,km)"
   ]
  },
  {
   "cell_type": "code",
   "execution_count": 153,
   "id": "751b2ec8",
   "metadata": {},
   "outputs": [],
   "source": [
    "# Export km clusters\n",
    "import pickle\n",
    "obj = {'km': km}\n",
    "output = open('clust-km1.pkl', 'wb')\n",
    "pickle.dump(obj, output, 2)\n",
    "output.close()"
   ]
  },
  {
   "cell_type": "code",
   "execution_count": null,
   "id": "c8da0b67",
   "metadata": {},
   "outputs": [],
   "source": []
  }
 ],
 "metadata": {
  "kernelspec": {
   "display_name": "Python 3 (ipykernel)",
   "language": "python",
   "name": "python3"
  },
  "language_info": {
   "codemirror_mode": {
    "name": "ipython",
    "version": 3
   },
   "file_extension": ".py",
   "mimetype": "text/x-python",
   "name": "python",
   "nbconvert_exporter": "python",
   "pygments_lexer": "ipython3",
   "version": "3.8.12"
  }
 },
 "nbformat": 4,
 "nbformat_minor": 5
}
